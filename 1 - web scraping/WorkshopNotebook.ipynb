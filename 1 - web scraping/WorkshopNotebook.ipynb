{
 "cells": [
  {
   "cell_type": "code",
   "execution_count": null,
   "metadata": {
    "collapsed": true
   },
   "outputs": [],
   "source": [
    "# import libraries\n",
    "import requests\n",
    "from bs4 import BeautifulSoup\n",
    "import csv"
   ]
  },
  {
   "cell_type": "markdown",
   "metadata": {},
   "source": [
    "## Getting the web page with Requests"
   ]
  },
  {
   "cell_type": "code",
   "execution_count": null,
   "metadata": {
    "collapsed": true
   },
   "outputs": [],
   "source": [
    "# initial GET request\n",
    "url = \"https://www.wunderground.com/history/airport/WSAP/2017/1/1/DailyHistory.html\"\n",
    "response = requests.get(url)\n",
    "content = response.content"
   ]
  },
  {
   "cell_type": "markdown",
   "metadata": {},
   "source": [
    "## Parsing the HTML with BeautifulSoup"
   ]
  },
  {
   "cell_type": "code",
   "execution_count": null,
   "metadata": {
    "collapsed": true
   },
   "outputs": [],
   "source": [
    "# convert contents to nested data structure for Python\n",
    "soup = BeautifulSoup(content, \"lxml\")"
   ]
  },
  {
   "cell_type": "code",
   "execution_count": null,
   "metadata": {},
   "outputs": [],
   "source": [
    "# play around with BeautifulSoup!\n"
   ]
  },
  {
   "cell_type": "code",
   "execution_count": null,
   "metadata": {
    "collapsed": true
   },
   "outputs": [],
   "source": [
    "# get date\n",
    "date = soup.find('div', attrs={'class':'daily-history-select'}).h2.text"
   ]
  },
  {
   "cell_type": "code",
   "execution_count": null,
   "metadata": {
    "collapsed": true
   },
   "outputs": [],
   "source": [
    "# get desired data\n",
    "meantemp = soup.find_all('tr')[2].find_all('td')[1].find(attrs={\"class\":\"wx-value\"}).text\n",
    "maxtemp = soup.find_all('tr')[3].find_all('td')[1].find(attrs={\"class\":\"wx-value\"}).text\n",
    "mintemp = soup.find_all('tr')[4].find_all('td')[1].find(attrs={\"class\":\"wx-value\"}).text\n",
    "precip = soup.find_all('tr')[13].find_all('td')[1].find(attrs={\"class\":\"wx-value\"}).text\n",
    "wind = soup.find_all('tr')[17].find_all('td')[1].find(attrs={\"class\":\"wx-value\"}).text"
   ]
  },
  {
   "cell_type": "markdown",
   "metadata": {},
   "source": [
    "## Store Your Results in a CSV File"
   ]
  },
  {
   "cell_type": "code",
   "execution_count": null,
   "metadata": {},
   "outputs": [],
   "source": [
    "# write resutls\n",
    "with open(\"WeatherScrapeOnePage.csv\", \"w\") as file:\n",
    "    csv_writer = csv.writer(file)\n",
    "    csv_writer.writerow(['Date', 'Mean Temp (C)', 'Max Temp (C)', 'Min Temp (C)', 'Precipitation (in)', 'Wind Speed (m/s)'])\n",
    "    csv_writer.writerow([date, meantemp, maxtemp, mintemp, precip, wind])"
   ]
  }
 ],
 "metadata": {
  "kernelspec": {
   "display_name": "Python 3",
   "language": "python",
   "name": "python3"
  },
  "language_info": {
   "codemirror_mode": {
    "name": "ipython",
    "version": 3
   },
   "file_extension": ".py",
   "mimetype": "text/x-python",
   "name": "python",
   "nbconvert_exporter": "python",
   "pygments_lexer": "ipython3",
   "version": "3.6.1"
  }
 },
 "nbformat": 4,
 "nbformat_minor": 2
}
